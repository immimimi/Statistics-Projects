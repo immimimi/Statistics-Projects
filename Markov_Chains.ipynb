{
  "nbformat": 4,
  "nbformat_minor": 0,
  "metadata": {
    "colab": {
      "provenance": [],
      "authorship_tag": "ABX9TyOIhgJveh9u7WiOZkYFNCJ1",
      "include_colab_link": true
    },
    "kernelspec": {
      "name": "python3",
      "display_name": "Python 3"
    },
    "language_info": {
      "name": "python"
    }
  },
  "cells": [
    {
      "cell_type": "markdown",
      "metadata": {
        "id": "view-in-github",
        "colab_type": "text"
      },
      "source": [
        "<a href=\"https://colab.research.google.com/github/immimimi/Statistics-Projects/blob/main/Markov_Chains.ipynb\" target=\"_parent\"><img src=\"https://colab.research.google.com/assets/colab-badge.svg\" alt=\"Open In Colab\"/></a>"
      ]
    },
    {
      "cell_type": "code",
      "execution_count": null,
      "metadata": {
        "colab": {
          "base_uri": "https://localhost:8080/"
        },
        "id": "v51fYbXPdbMO",
        "outputId": "4cd5ec03-bcda-4880-8d65-711d7168206b"
      },
      "outputs": [
        {
          "output_type": "stream",
          "name": "stdout",
          "text": [
            "good\n",
            "Start state: Rainy\n",
            "Possible states: ['Rainy', 'Rainy', 'Cloudy']\n",
            "End state after 2 days: Cloudy\n",
            "Probability of the possible sequence of states: 0.13999999999999999\n"
          ]
        }
      ],
      "source": [
        "import numpy as np\n",
        "import random as rm\n",
        "\n",
        "#weather prediction markov chain\n",
        "\n",
        "#markov chain to predict the weather\n",
        "#three possible weather types\n",
        "\n",
        "#R Rainy , S Sunny, C Cloudy\n",
        "\n",
        "\n",
        "#activities\n",
        "states = [\"Rainy\", \"Sunny\", \"Cloudy\"]\n",
        "#simplify our transition names,\n",
        "transitionName = [[\"RR\",\"RS\",\"RC\"],[\"SR\",\"SS\",\"SC\"],[\"CR\",\"CS\",\"CC\"]]\n",
        "\n",
        "#P(RR)=0.4 , P(RS)=0.25 , P(RC)=0.35 , P(SR)=0.2 , P(SS)=0.3 , P(SC)=0.5 , P(CR)=0.6 , P(CS)=0.1 , P(CC)=0.3\n",
        "\n",
        "transitionMatrix = [[0.4,0.25,0.35],[0.2,0.3,0.5],[0.6,0.1,0.3]]\n",
        "\n",
        "\n",
        "if (sum(transitionMatrix[0]) + sum(transitionMatrix[1]) +sum(transitionMatrix[0])) ==3: #checking if all is good (probabilites have to add to one)\n",
        "  print('good')\n",
        "else: print('Bad')\n",
        "\n",
        "# A function that implements the Markov model to forecast the state/mood.\n",
        "def activity_forecast(days):\n",
        "    # Choose the starting state\n",
        "    activityToday = \"Rainy\"\n",
        "    print(\"Start state: \" + activityToday)\n",
        "    # Shall store the sequence of states taken. So, this only has the starting state for now.\n",
        "    activityList = [activityToday]\n",
        "    i = 0\n",
        "    # To calculate the probability of the activityList\n",
        "    prob = 1\n",
        "    while i != days:\n",
        "        if activityToday == \"Rainy\":\n",
        "            change = np.random.choice(transitionName[0],replace=True,p=transitionMatrix[0])\n",
        "            if change == \"RR\":\n",
        "                prob = prob * 0.4\n",
        "                activityList.append(\"Rainy\")\n",
        "                pass\n",
        "            elif change == \"RC\":\n",
        "                prob = prob * 0.35\n",
        "                activityToday = \"Cloudy\"\n",
        "                activityList.append(\"Cloudy\")\n",
        "            else:\n",
        "                prob = prob * 0.25\n",
        "                activityToday = \"Sunny\"\n",
        "                activityList.append(\"Sunny\")\n",
        "        elif activityToday == \"Cloudy\":\n",
        "            change = np.random.choice(transitionName[0],replace=True,p=transitionMatrix[0])\n",
        "            if change == \"CC\":\n",
        "              prob = prob * 0.3\n",
        "              activityList.append(\"Cloudy\")\n",
        "              pass\n",
        "            elif change == \"CR\":\n",
        "              prob = prob * 0.6\n",
        "              activityToday = \"Rainy\"\n",
        "              activityList.appemd(\"Rainy\")\n",
        "            else:\n",
        "              prop = prob * 0.1\n",
        "              activityToday = \"Sunny\"\n",
        "              activityList.append(\"Sunny\")\n",
        "        elif activityToday == \"Sunny\":\n",
        "            change = np.random.choice(transitionName[0],replace=True,p=transitionMatrix[0])\n",
        "            if change == \"SS\":\n",
        "              prob = prob * 0.3\n",
        "              pass\n",
        "            elif change == \"SR\":\n",
        "                prob = prob * 0.2\n",
        "                activityToday = \"Rainy\"\n",
        "                activityList.append(\"Rainy\")\n",
        "            else:\n",
        "              prob = prob * 0.5\n",
        "              activityToday = \"Cloudy\"\n",
        "              activityList.append(\"Cloudy\")\n",
        "        i += 1\n",
        "    print(\"Possible states: \" + str(activityList))\n",
        "    print(\"End state after \"+ str(days) + \" days: \" + activityToday)\n",
        "    print(\"Probability of the possible sequence of states: \" + str(prob))\n",
        "\n",
        "# Function that forecasts the possible state for the next 2 days\n",
        "activity_forecast(2)\n",
        "\n",
        "\n"
      ]
    }
  ]
}